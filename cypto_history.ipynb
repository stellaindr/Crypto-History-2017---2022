{
 "cells": [
  {
   "cell_type": "code",
   "execution_count": null,
   "metadata": {},
   "outputs": [],
   "source": [
    "import pandas as pd"
   ]
  },
  {
   "cell_type": "code",
   "execution_count": null,
   "metadata": {},
   "outputs": [],
   "source": [
    "d_ada = pd.read_csv('ada-usdt.csv', sep=';')\n",
    "d_avax = pd.read_csv('avax-usdt.csv', sep=';')\n",
    "d_bnb = pd.read_csv('bnb-usdt.csv', sep=';')\n",
    "d_btc = pd.read_csv('btc-usdt.csv', sep=';')\n",
    "d_cro = pd.read_csv('cro-usdt.csv', sep=';')\n",
    "d_doge = pd.read_csv('doge-usdt.csv', sep=';')\n",
    "d_dot = pd.read_csv('dot-usdt.csv', sep=';')\n",
    "d_eth = pd.read_csv('eth-usdt.csv', sep=';')\n",
    "d_fil = pd.read_csv('fil-usdt.csv', sep=';')\n",
    "d_kda = pd.read_csv('kda-usdt.csv', sep=';')\n",
    "d_link = pd.read_csv('link-usdt.csv', sep=';')\n",
    "d_ltc = pd.read_csv('ltc-usdt.csv', sep=';')\n",
    "d_luna = pd.read_csv('luna-usdt.csv', sep=';')\n",
    "d_mana = pd.read_csv('mana-usdt.csv', sep=';')\n",
    "d_matic = pd.read_csv('matic-usdt.csv', sep=';')\n",
    "d_near = pd.read_csv('near-usdt.csv', sep=';')\n",
    "d_sand = pd.read_csv('sand-usdt.csv', sep=';')\n",
    "d_shib = pd.read_csv('shib-usdt.csv', sep=';')\n",
    "d_sol = pd.read_csv('sol-usdt.csv', sep=';')\n",
    "d_theter = pd.read_csv('theter-usdt.csv', sep=';')\n",
    "d_xrp = pd.read_csv('xrp-usdt.csv', sep=';')"
   ]
  },
  {
   "cell_type": "code",
   "execution_count": null,
   "metadata": {},
   "outputs": [],
   "source": [
    "d_ada.insert(loc=7,\n",
    "          column='NAME',\n",
    "          value='Cardano (ADA)')\n",
    "d_avax.insert(loc=7,\n",
    "          column='NAME',\n",
    "          value='Avalanche (AVAX)')\n",
    "d_bnb.insert(loc=7,\n",
    "          column='NAME',\n",
    "          value='Binance (BNB)')\n",
    "d_btc.insert(loc=7,\n",
    "          column='NAME',\n",
    "          value='Bitcoin (BTC)')\n",
    "d_cro.insert(loc=7,\n",
    "          column='NAME',\n",
    "          value='Cronos (CRO)')\n",
    "d_doge.insert(loc=7,\n",
    "          column='NAME',\n",
    "          value='Dogecoin (DOGE)')\n",
    "d_dot.insert(loc=7,\n",
    "          column='NAME',\n",
    "          value='Polkadot (DOT)')\n",
    "d_eth.insert(loc=7,\n",
    "          column='NAME',\n",
    "          value='Ethereum (ETH)')\n",
    "d_fil.insert(loc=7,\n",
    "          column='NAME',\n",
    "          value='Filecoin (FIL)')\n",
    "d_kda.insert(loc=7,\n",
    "          column='NAME',\n",
    "          value='Kadena (KDA)')\n",
    "d_link.insert(loc=7,\n",
    "          column='NAME',\n",
    "          value='Chainlink (LINK)')\n",
    "d_ltc.insert(loc=7,\n",
    "          column='NAME',\n",
    "          value='Litecoin (LTC)')\n",
    "d_luna.insert(loc=7,\n",
    "          column='NAME',\n",
    "          value='Terra (LUNA)')\n",
    "d_mana.insert(loc=7,\n",
    "          column='NAME',\n",
    "          value='Decentraland (MANA)')\n",
    "d_matic.insert(loc=7,\n",
    "          column='NAME',\n",
    "          value='Polygon (MATIC)')\n",
    "d_near.insert(loc=7,\n",
    "          column='NAME',\n",
    "          value='Near Protocol')\n",
    "d_sand.insert(loc=7,\n",
    "          column='NAME',\n",
    "          value='The Sandbox (SAND)')\n",
    "d_shib.insert(loc=7,\n",
    "          column='NAME',\n",
    "          value='Shiba INU (SHIB)')\n",
    "d_sol.insert(loc=7,\n",
    "          column='NAME',\n",
    "          value='Solana (SOL)')\n",
    "d_theter.insert(loc=7,\n",
    "          column='NAME',\n",
    "          value='Theter (USDT)')\n",
    "d_xrp.insert(loc=7,\n",
    "          column='NAME',\n",
    "          value='Ripple (XRP)')"
   ]
  },
  {
   "cell_type": "code",
   "execution_count": null,
   "metadata": {},
   "outputs": [],
   "source": [
    "d_ada['Date'] = pd.to_datetime(d_ada['Date'])\n",
    "d_avax['Date'] = pd.to_datetime(d_avax['Date'])\n",
    "d_bnb['Date'] = pd.to_datetime(d_bnb['Date'])\n",
    "d_btc['Date'] = pd.to_datetime(d_btc['Date'])\n",
    "d_cro['Date'] = pd.to_datetime(d_cro['Date'])\n",
    "d_doge['Date'] = pd.to_datetime(d_doge['Date'])\n",
    "d_dot['Date'] = pd.to_datetime(d_dot['Date'])\n",
    "d_eth['Date'] = pd.to_datetime(d_eth['Date'])\n",
    "d_fil['Date'] = pd.to_datetime(d_fil['Date'])\n",
    "d_kda['Date'] = pd.to_datetime(d_kda['Date'])\n",
    "d_link['Date'] = pd.to_datetime(d_link['Date'])\n",
    "d_ltc['Date'] = pd.to_datetime(d_ltc['Date'])\n",
    "d_luna['Date'] = pd.to_datetime(d_luna['Date'])\n",
    "d_mana['Date'] = pd.to_datetime(d_mana['Date'])\n",
    "d_matic['Date'] = pd.to_datetime(d_matic['Date'])\n",
    "d_near['Date'] = pd.to_datetime(d_near['Date'])\n",
    "d_sand['Date'] = pd.to_datetime(d_sand['Date'])\n",
    "d_shib['Date'] = pd.to_datetime(d_shib['Date'])\n",
    "d_sol['Date'] = pd.to_datetime(d_sol['Date'])\n",
    "d_theter['Date'] = pd.to_datetime(d_theter['Date'])\n",
    "d_xrp['Date'] = pd.to_datetime(d_xrp['Date'])"
   ]
  },
  {
   "cell_type": "code",
   "execution_count": null,
   "metadata": {},
   "outputs": [],
   "source": [
    "d_ada['Date'] = d_ada['Date'].dt.strftime(\"%Y %b W%U\")\n",
    "d_avax['Date'] = d_avax['Date'].dt.strftime(\"%Y %b W%U\")\n",
    "d_bnb['Date'] = d_bnb['Date'].dt.strftime(\"%Y %b W%U\")\n",
    "d_btc['Date'] = d_btc['Date'].dt.strftime(\"%Y %b W%U\")\n",
    "d_cro['Date'] = d_cro['Date'].dt.strftime(\"%Y %b W%U\")\n",
    "d_doge['Date'] = d_doge['Date'].dt.strftime(\"%Y %b W%U\")\n",
    "d_dot['Date'] = d_dot['Date'].dt.strftime(\"%Y %b W%U\")\n",
    "d_eth['Date'] = d_eth['Date'].dt.strftime(\"%Y %b W%U\")\n",
    "d_fil['Date'] = d_fil['Date'].dt.strftime(\"%Y %b W%U\")\n",
    "d_kda['Date'] = d_kda['Date'].dt.strftime(\"%Y %b W%U\")\n",
    "d_link['Date'] = d_link['Date'].dt.strftime(\"%Y %b W%U\")\n",
    "d_ltc['Date'] = d_ltc['Date'].dt.strftime(\"%Y %b W%U\")\n",
    "d_luna['Date'] = d_luna['Date'].dt.strftime(\"%Y %b W%U\")\n",
    "d_mana['Date'] = d_mana['Date'].dt.strftime(\"%Y %b W%U\")\n",
    "d_matic['Date'] = d_matic['Date'].dt.strftime(\"%Y %b W%U\")\n",
    "d_near['Date'] = d_near['Date'].dt.strftime(\"%Y %b W%U\")\n",
    "d_sand['Date'] = d_sand['Date'].dt.strftime(\"%Y %b W%U\")\n",
    "d_shib['Date'] = d_shib['Date'].dt.strftime(\"%Y %b W%U\")\n",
    "d_sol['Date'] = d_sol['Date'].dt.strftime(\"%Y %b W%U\")\n",
    "d_theter['Date'] = d_theter['Date'].dt.strftime(\"%Y %b W%U\")\n",
    "d_xrp['Date'] = d_xrp['Date'].dt.strftime(\"%Y %b W%U\")"
   ]
  },
  {
   "cell_type": "code",
   "execution_count": null,
   "metadata": {},
   "outputs": [],
   "source": [
    "df = pd.concat([\n",
    "        d_ada,\n",
    "        d_avax,\n",
    "        d_bnb,\n",
    "        d_btc,\n",
    "        d_cro,\n",
    "        d_doge,\n",
    "        d_dot,\n",
    "        d_eth,\n",
    "        d_fil,\n",
    "        d_kda,\n",
    "        d_link,\n",
    "        d_ltc,\n",
    "        d_luna,\n",
    "        d_mana,\n",
    "        d_matic,\n",
    "        d_near,\n",
    "        d_sand,\n",
    "        d_shib,\n",
    "        d_sol,\n",
    "        d_theter,\n",
    "        d_xrp], ignore_index=True, sort=False)"
   ]
  },
  {
   "cell_type": "code",
   "execution_count": null,
   "metadata": {},
   "outputs": [],
   "source": [
    "d_avax"
   ]
  },
  {
   "cell_type": "code",
   "execution_count": null,
   "metadata": {},
   "outputs": [],
   "source": [
    "df"
   ]
  },
  {
   "cell_type": "code",
   "execution_count": null,
   "metadata": {},
   "outputs": [],
   "source": [
    "df = df.rename(columns={'Date': 'week', 'Price' : 'close_price'})"
   ]
  },
  {
   "cell_type": "code",
   "execution_count": null,
   "metadata": {},
   "outputs": [],
   "source": [
    "df"
   ]
  },
  {
   "cell_type": "code",
   "execution_count": null,
   "metadata": {},
   "outputs": [],
   "source": [
    "df = df.drop(['Open', 'High', 'Low', 'Vol.', 'Change %', ], axis = 1)\n",
    "df"
   ]
  },
  {
   "cell_type": "code",
   "execution_count": null,
   "metadata": {},
   "outputs": [],
   "source": [
    "df = pd.pivot_table(data = df, aggfunc = 'sum', index=['NAME'], columns=['week'], values='close_price')"
   ]
  },
  {
   "cell_type": "code",
   "execution_count": null,
   "metadata": {},
   "outputs": [],
   "source": [
    "df = df.reset_index()"
   ]
  },
  {
   "cell_type": "code",
   "execution_count": null,
   "metadata": {},
   "outputs": [],
   "source": [
    "df"
   ]
  },
  {
   "cell_type": "code",
   "execution_count": null,
   "metadata": {},
   "outputs": [],
   "source": [
    "df.to_csv ('crypto_price.csv',  index = False, header=True)"
   ]
  },
  {
   "cell_type": "code",
   "execution_count": null,
   "metadata": {},
   "outputs": [],
   "source": []
  }
 ],
 "metadata": {
  "interpreter": {
   "hash": "28e7252bb197b80a4c14600a7c3173048170a63593e4c62a20de20fd3f2580fc"
  },
  "kernelspec": {
   "display_name": "Python 3 (ipykernel)",
   "language": "python",
   "name": "python3"
  },
  "language_info": {
   "codemirror_mode": {
    "name": "ipython",
    "version": 3
   },
   "file_extension": ".py",
   "mimetype": "text/x-python",
   "name": "python",
   "nbconvert_exporter": "python",
   "pygments_lexer": "ipython3",
   "version": "3.10.2"
  }
 },
 "nbformat": 4,
 "nbformat_minor": 4
}
